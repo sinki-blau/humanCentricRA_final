{
 "cells": [
  {
   "cell_type": "code",
   "execution_count": 1,
   "metadata": {
    "ExecuteTime": {
     "end_time": "2020-02-11T15:25:43.961435Z",
     "start_time": "2020-02-11T15:25:43.137707Z"
    }
   },
   "outputs": [],
   "source": [
    "import dill\n",
    "import similaritymeasures as sm"
   ]
  },
  {
   "cell_type": "code",
   "execution_count": 2,
   "metadata": {
    "ExecuteTime": {
     "end_time": "2020-02-11T15:25:51.864194Z",
     "start_time": "2020-02-11T15:25:49.030372Z"
    }
   },
   "outputs": [],
   "source": [
    "import networkx as nx, matplotlib.cm as cm, pandas as pd, numpy as np\n",
    "import community\n",
    "import matplotlib.pyplot as plt\n",
    "from importlib import reload\n",
    "import geopandas as gpd\n",
    "import functools\n",
    "%matplotlib inline"
   ]
  },
  {
   "cell_type": "code",
   "execution_count": 3,
   "metadata": {
    "ExecuteTime": {
     "end_time": "2020-02-11T15:26:01.581076Z",
     "start_time": "2020-02-11T15:25:56.673124Z"
    }
   },
   "outputs": [],
   "source": [
    "dill.load_session('part3RoutingNVis_VAL_v2.db')"
   ]
  },
  {
   "cell_type": "code",
   "execution_count": 19,
   "metadata": {
    "ExecuteTime": {
     "end_time": "2020-02-11T16:30:33.422761Z",
     "start_time": "2020-02-11T16:30:30.822698Z"
    }
   },
   "outputs": [],
   "source": [
    "dill.load_session('part3RoutingNVis_VAL_v3.db')"
   ]
  },
  {
   "cell_type": "markdown",
   "metadata": {},
   "source": [
    "# Calculate Fredchet distance\n",
    "### 1. From nb3, already extracted nodesID for each route  "
   ]
  },
  {
   "cell_type": "code",
   "execution_count": 5,
   "metadata": {
    "ExecuteTime": {
     "end_time": "2020-02-11T15:28:17.592957Z",
     "start_time": "2020-02-11T15:28:16.173398Z"
    }
   },
   "outputs": [],
   "source": [
    "#project nodes gdf to madrid coordinate system \n",
    "nodesP_proj=nodesP.to_crs(epsg=2062)\n",
    "nodesD_proj=nodesD.to_crs(epsg=2062)"
   ]
  },
  {
   "cell_type": "code",
   "execution_count": 6,
   "metadata": {
    "ExecuteTime": {
     "end_time": "2020-02-11T15:28:59.986995Z",
     "start_time": "2020-02-11T15:28:59.983183Z"
    }
   },
   "outputs": [],
   "source": [
    "# single function to find the array of coordinates per route\n",
    "def route_coords(routeNID, nodes):\n",
    "    nodeGDF = nodes.loc[routeNID]\n",
    "    coords_array = list(zip(nodeGDF['geometry'].x,nodeGDF['geometry'].y))\n",
    "    return coords_array"
   ]
  },
  {
   "cell_type": "code",
   "execution_count": 10,
   "metadata": {
    "ExecuteTime": {
     "end_time": "2020-02-11T16:19:38.737028Z",
     "start_time": "2020-02-11T16:19:38.732041Z"
    }
   },
   "outputs": [],
   "source": [
    "# create array of coordinates\n",
    "def array_coords(routeNID):\n",
    "    arrayCoords = []\n",
    "    for i in range(len(routeNID)):\n",
    "        if i < 4:\n",
    "            route_coord = route_coords(routeNID[i],nodesP_proj)\n",
    "        else:\n",
    "             route_coord = route_coords(routeNID[i],nodesD_proj)\n",
    "        arrayCoords.append(route_coord)\n",
    "    return arrayCoords"
   ]
  },
  {
   "cell_type": "code",
   "execution_count": 11,
   "metadata": {
    "ExecuteTime": {
     "end_time": "2020-02-11T16:19:38.745017Z",
     "start_time": "2020-02-11T16:19:38.739023Z"
    }
   },
   "outputs": [],
   "source": [
    "#cal distance\n",
    "def frechet_distCal(arrayCoords):\n",
    "    for i in range(len(arrayCoords)):\n",
    "        for j in range(len(arrayCoords)):\n",
    "            dist =  sm.frechet_dist(arrayCoords[i],arrayCoords[j])\n",
    "            print(dist)"
   ]
  },
  {
   "cell_type": "code",
   "execution_count": null,
   "metadata": {},
   "outputs": [],
   "source": []
  },
  {
   "cell_type": "markdown",
   "metadata": {},
   "source": [
    "### Route 1"
   ]
  },
  {
   "cell_type": "code",
   "execution_count": 4,
   "metadata": {
    "ExecuteTime": {
     "end_time": "2020-02-11T15:27:45.646101Z",
     "start_time": "2020-02-11T15:27:45.642151Z"
    }
   },
   "outputs": [],
   "source": [
    "#list of nodesID for each route: primal and dual\n",
    "route1N = [nodePR1w1,nodePR1w2,nodePR1w3,nodePR1w4,nodeDR1w1,nodeDR1w2,nodeDR1w3,nodeDR1w4]"
   ]
  },
  {
   "cell_type": "code",
   "execution_count": 12,
   "metadata": {
    "ExecuteTime": {
     "end_time": "2020-02-11T16:21:05.898753Z",
     "start_time": "2020-02-11T16:21:05.863794Z"
    }
   },
   "outputs": [],
   "source": [
    "od1ArrayCoord = array_coords(route1N)"
   ]
  },
  {
   "cell_type": "code",
   "execution_count": 14,
   "metadata": {
    "ExecuteTime": {
     "end_time": "2020-02-11T16:21:39.820940Z",
     "start_time": "2020-02-11T16:21:35.485092Z"
    },
    "scrolled": true
   },
   "outputs": [
    {
     "name": "stdout",
     "output_type": "stream",
     "text": [
      "0.0\n",
      "51.45656622078649\n",
      "1282.1017944516389\n",
      "1420.485631362997\n",
      "1140.7888578032175\n",
      "154.82403848161798\n",
      "154.82403848161798\n",
      "1283.2249851623933\n",
      "51.45656622078649\n",
      "0.0\n",
      "1282.1017944516389\n",
      "1420.485631362997\n",
      "1136.214507897684\n",
      "154.82403848161798\n",
      "154.82403848161798\n",
      "1283.2249851623933\n",
      "1282.1017944516389\n",
      "1282.1017944516389\n",
      "0.0\n",
      "1967.1179193137402\n",
      "2129.019239969989\n",
      "1271.238704095828\n",
      "1279.189386160929\n",
      "263.1760115134651\n",
      "1420.485631362997\n",
      "1420.485631362997\n",
      "1967.1179193137402\n",
      "0.0\n",
      "2129.019239969989\n",
      "1408.5702753255764\n",
      "1412.944952834186\n",
      "1902.4611761086603\n",
      "1140.7888578032175\n",
      "1136.214507897684\n",
      "2129.019239969989\n",
      "2129.019239969989\n",
      "0.0\n",
      "1143.4983752515004\n",
      "1143.4983752515004\n",
      "2108.305308595171\n",
      "154.82403848161798\n",
      "154.82403848161798\n",
      "1271.238704095828\n",
      "1408.5702753255764\n",
      "1143.4983752515004\n",
      "0.0\n",
      "33.631580494523824\n",
      "1272.657761067591\n",
      "154.82403848161798\n",
      "154.82403848161798\n",
      "1279.189386160929\n",
      "1412.944952834186\n",
      "1143.4983752515004\n",
      "33.631580494523824\n",
      "0.0\n",
      "1280.6110191350722\n",
      "1283.2249851623933\n",
      "1283.2249851623933\n",
      "263.1760115134651\n",
      "1902.4611761086603\n",
      "2108.305308595171\n",
      "1272.657761067591\n",
      "1280.6110191350722\n",
      "0.0\n"
     ]
    }
   ],
   "source": [
    "od1Dist = frechet_distCal(od1ArrayCoord)"
   ]
  },
  {
   "cell_type": "markdown",
   "metadata": {
    "ExecuteTime": {
     "end_time": "2020-02-11T16:27:48.160606Z",
     "start_time": "2020-02-11T16:27:48.157614Z"
    }
   },
   "source": [
    "### Route 2"
   ]
  },
  {
   "cell_type": "code",
   "execution_count": 20,
   "metadata": {
    "ExecuteTime": {
     "end_time": "2020-02-11T16:30:38.413998Z",
     "start_time": "2020-02-11T16:30:38.408013Z"
    }
   },
   "outputs": [],
   "source": [
    "#list of nodesID for each route: primal and dual\n",
    "route2N = [nodePR2w1,nodePR2w2,nodePR2w3,nodePR2w4,nodeDR2w1,nodeDR2w2,nodeDR2w3,nodeDR2w4]"
   ]
  },
  {
   "cell_type": "code",
   "execution_count": 22,
   "metadata": {
    "ExecuteTime": {
     "end_time": "2020-02-11T16:31:10.422997Z",
     "start_time": "2020-02-11T16:31:10.383836Z"
    }
   },
   "outputs": [],
   "source": [
    "od2ArrayCoord = array_coords(route2N)"
   ]
  },
  {
   "cell_type": "code",
   "execution_count": 23,
   "metadata": {
    "ExecuteTime": {
     "end_time": "2020-02-11T16:31:20.066036Z",
     "start_time": "2020-02-11T16:31:10.424724Z"
    },
    "scrolled": true
   },
   "outputs": [
    {
     "name": "stdout",
     "output_type": "stream",
     "text": [
      "0.0\n",
      "0.0\n",
      "130.78644075743009\n",
      "1324.760651378008\n",
      "3654.708233398634\n",
      "333.4791858497782\n",
      "333.4791858497782\n",
      "1200.3507298502002\n",
      "0.0\n",
      "0.0\n",
      "130.78644075743009\n",
      "1324.760651378008\n",
      "3654.708233398634\n",
      "333.4791858497782\n",
      "333.4791858497782\n",
      "1200.3507298502002\n",
      "130.78644075743009\n",
      "130.78644075743009\n",
      "0.0\n",
      "1328.550515595904\n",
      "3652.7595113768084\n",
      "333.4791858497782\n",
      "333.4791858497782\n",
      "1200.3507298502002\n",
      "1324.760651378008\n",
      "1324.760651378008\n",
      "1328.550515595904\n",
      "0.0\n",
      "4744.925480200986\n",
      "1322.2972366752867\n",
      "1322.2972366752867\n",
      "2426.356003060852\n",
      "3654.708233398634\n",
      "3654.708233398634\n",
      "3652.7595113768084\n",
      "4744.925480200986\n",
      "0.0\n",
      "3654.4546599439573\n",
      "3654.4546599439573\n",
      "2652.659841911483\n",
      "333.4791858497782\n",
      "333.4791858497782\n",
      "333.4791858497782\n",
      "1322.2972366752867\n",
      "3654.4546599439573\n",
      "0.0\n",
      "0.0\n",
      "1283.8598756482995\n",
      "333.4791858497782\n",
      "333.4791858497782\n",
      "333.4791858497782\n",
      "1322.2972366752867\n",
      "3654.4546599439573\n",
      "0.0\n",
      "0.0\n",
      "1283.8598756482995\n",
      "1200.3507298502002\n",
      "1200.3507298502002\n",
      "1200.3507298502002\n",
      "2426.356003060852\n",
      "2652.659841911483\n",
      "1283.8598756482995\n",
      "1283.8598756482995\n",
      "0.0\n"
     ]
    }
   ],
   "source": [
    "od2Dist = frechet_distCal(od2ArrayCoord)"
   ]
  },
  {
   "cell_type": "code",
   "execution_count": null,
   "metadata": {},
   "outputs": [],
   "source": []
  },
  {
   "cell_type": "markdown",
   "metadata": {},
   "source": [
    "### Route 3"
   ]
  },
  {
   "cell_type": "code",
   "execution_count": 21,
   "metadata": {
    "ExecuteTime": {
     "end_time": "2020-02-11T16:30:40.836572Z",
     "start_time": "2020-02-11T16:30:40.833582Z"
    }
   },
   "outputs": [],
   "source": [
    "#list of nodesID for each route: primal and dual\n",
    "route3N = [nodePR3w1,nodePR3w2,nodePR3w3,nodePR3w4,nodeDR3w1,nodeDR3w2,nodeDR3w3,nodeDR3w4]"
   ]
  },
  {
   "cell_type": "code",
   "execution_count": 24,
   "metadata": {
    "ExecuteTime": {
     "end_time": "2020-02-11T16:31:23.826778Z",
     "start_time": "2020-02-11T16:31:23.791826Z"
    }
   },
   "outputs": [],
   "source": [
    "od3ArrayCoord = array_coords(route3N)"
   ]
  },
  {
   "cell_type": "code",
   "execution_count": 25,
   "metadata": {
    "ExecuteTime": {
     "end_time": "2020-02-11T16:31:33.306431Z",
     "start_time": "2020-02-11T16:31:23.829726Z"
    },
    "scrolled": true
   },
   "outputs": [
    {
     "name": "stdout",
     "output_type": "stream",
     "text": [
      "0.0\n",
      "332.90639645229464\n",
      "317.4805313426906\n",
      "2415.5893165870116\n",
      "1863.9901685697666\n",
      "332.83842634713295\n",
      "332.83842634713295\n",
      "780.9107286261947\n",
      "332.90639645229464\n",
      "0.0\n",
      "236.39634926965493\n",
      "2622.7310032749633\n",
      "1863.9901685697666\n",
      "235.22135979475203\n",
      "235.22135979475203\n",
      "613.6656599699605\n",
      "317.4805313426906\n",
      "236.39634926965493\n",
      "0.0\n",
      "2611.230565078805\n",
      "1863.9901685697666\n",
      "128.98384795664808\n",
      "269.87464917523687\n",
      "587.4913807551155\n",
      "2415.5893165870116\n",
      "2622.7310032749633\n",
      "2611.230565078805\n",
      "0.0\n",
      "1074.3099952793182\n",
      "2621.6095844458437\n",
      "2621.6095844458437\n",
      "2691.8536070382665\n",
      "1863.9901685697666\n",
      "1863.9901685697666\n",
      "1863.9901685697666\n",
      "1074.3099952793182\n",
      "0.0\n",
      "1863.7748073797836\n",
      "1863.7748073797836\n",
      "1863.7748073797836\n",
      "332.83842634713295\n",
      "235.22135979475203\n",
      "128.98384795664808\n",
      "2621.6095844458437\n",
      "1863.7748073797836\n",
      "0.0\n",
      "256.5422261554834\n",
      "526.8430617081352\n",
      "332.83842634713295\n",
      "235.22135979475203\n",
      "269.87464917523687\n",
      "2621.6095844458437\n",
      "1863.7748073797836\n",
      "256.5422261554834\n",
      "0.0\n",
      "614.8229990212045\n",
      "780.9107286261947\n",
      "613.6656599699605\n",
      "587.4913807551155\n",
      "2691.8536070382665\n",
      "1863.7748073797836\n",
      "526.8430617081352\n",
      "614.8229990212045\n",
      "0.0\n"
     ]
    }
   ],
   "source": [
    "od3Dist = frechet_distCal(od3ArrayCoord)"
   ]
  },
  {
   "cell_type": "code",
   "execution_count": null,
   "metadata": {},
   "outputs": [],
   "source": []
  }
 ],
 "metadata": {
  "kernelspec": {
   "display_name": "Python 3",
   "language": "python",
   "name": "python3"
  },
  "language_info": {
   "codemirror_mode": {
    "name": "ipython",
    "version": 3
   },
   "file_extension": ".py",
   "mimetype": "text/x-python",
   "name": "python",
   "nbconvert_exporter": "python",
   "pygments_lexer": "ipython3",
   "version": "3.7.5"
  }
 },
 "nbformat": 4,
 "nbformat_minor": 2
}
